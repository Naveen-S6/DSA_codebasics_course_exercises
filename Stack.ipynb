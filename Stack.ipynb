{
 "cells": [
  {
   "cell_type": "code",
   "execution_count": 1,
   "id": "e47d6049",
   "metadata": {},
   "outputs": [],
   "source": [
    "stack = []\n",
    "stack.append(\"https://codebasics.io/\")\n",
    "stack.append(\"https://codebasics.io/courses?price%5B0%5D=free\")\n",
    "stack.append(\"https://codebasics.io/courses/data-structures-and-algorithms-in-python\")\n",
    "stack.append(\"https://codebasics.io/courses/data-structures-and-algorithms-in-python/lecture/235\")"
   ]
  },
  {
   "cell_type": "code",
   "execution_count": 2,
   "id": "83d9beef",
   "metadata": {},
   "outputs": [
    {
     "data": {
      "text/plain": [
       "['https://codebasics.io/',\n",
       " 'https://codebasics.io/courses?price%5B0%5D=free',\n",
       " 'https://codebasics.io/courses/data-structures-and-algorithms-in-python',\n",
       " 'https://codebasics.io/courses/data-structures-and-algorithms-in-python/lecture/235']"
      ]
     },
     "execution_count": 2,
     "metadata": {},
     "output_type": "execute_result"
    }
   ],
   "source": [
    "stack"
   ]
  },
  {
   "cell_type": "code",
   "execution_count": 3,
   "id": "0f7aeee5",
   "metadata": {},
   "outputs": [
    {
     "data": {
      "text/plain": [
       "'https://codebasics.io/courses/data-structures-and-algorithms-in-python/lecture/235'"
      ]
     },
     "execution_count": 3,
     "metadata": {},
     "output_type": "execute_result"
    }
   ],
   "source": [
    "stack.pop()"
   ]
  },
  {
   "cell_type": "code",
   "execution_count": 4,
   "id": "8e1cdb4a",
   "metadata": {},
   "outputs": [
    {
     "data": {
      "text/plain": [
       "['https://codebasics.io/',\n",
       " 'https://codebasics.io/courses?price%5B0%5D=free',\n",
       " 'https://codebasics.io/courses/data-structures-and-algorithms-in-python']"
      ]
     },
     "execution_count": 4,
     "metadata": {},
     "output_type": "execute_result"
    }
   ],
   "source": [
    "stack"
   ]
  },
  {
   "cell_type": "code",
   "execution_count": 5,
   "id": "7fddfa27",
   "metadata": {},
   "outputs": [
    {
     "data": {
      "text/plain": [
       "'https://codebasics.io/courses/data-structures-and-algorithms-in-python'"
      ]
     },
     "execution_count": 5,
     "metadata": {},
     "output_type": "execute_result"
    }
   ],
   "source": [
    "stack.pop()"
   ]
  },
  {
   "cell_type": "code",
   "execution_count": 6,
   "id": "5e18def5",
   "metadata": {},
   "outputs": [
    {
     "data": {
      "text/plain": [
       "['https://codebasics.io/', 'https://codebasics.io/courses?price%5B0%5D=free']"
      ]
     },
     "execution_count": 6,
     "metadata": {},
     "output_type": "execute_result"
    }
   ],
   "source": [
    "stack"
   ]
  },
  {
   "cell_type": "code",
   "execution_count": 7,
   "id": "b94a7c77",
   "metadata": {},
   "outputs": [
    {
     "data": {
      "text/plain": [
       "'https://codebasics.io/courses?price%5B0%5D=free'"
      ]
     },
     "execution_count": 7,
     "metadata": {},
     "output_type": "execute_result"
    }
   ],
   "source": [
    "stack.pop()"
   ]
  },
  {
   "cell_type": "code",
   "execution_count": 8,
   "id": "c0d7e606",
   "metadata": {},
   "outputs": [
    {
     "data": {
      "text/plain": [
       "['https://codebasics.io/']"
      ]
     },
     "execution_count": 8,
     "metadata": {},
     "output_type": "execute_result"
    }
   ],
   "source": [
    "stack"
   ]
  },
  {
   "cell_type": "code",
   "execution_count": 9,
   "id": "170471b9",
   "metadata": {},
   "outputs": [
    {
     "data": {
      "text/plain": [
       "'https://codebasics.io/'"
      ]
     },
     "execution_count": 9,
     "metadata": {},
     "output_type": "execute_result"
    }
   ],
   "source": [
    "stack.pop()"
   ]
  },
  {
   "cell_type": "code",
   "execution_count": 10,
   "id": "5cc7a30d",
   "metadata": {},
   "outputs": [
    {
     "data": {
      "text/plain": [
       "[]"
      ]
     },
     "execution_count": 10,
     "metadata": {},
     "output_type": "execute_result"
    }
   ],
   "source": [
    "stack"
   ]
  },
  {
   "cell_type": "code",
   "execution_count": 11,
   "id": "81e0246c",
   "metadata": {},
   "outputs": [
    {
     "ename": "IndexError",
     "evalue": "pop from empty list",
     "output_type": "error",
     "traceback": [
      "\u001b[1;31m---------------------------------------------------------------------------\u001b[0m",
      "\u001b[1;31mIndexError\u001b[0m                                Traceback (most recent call last)",
      "\u001b[1;32m~\\AppData\\Local\\Temp/ipykernel_4396/2667379430.py\u001b[0m in \u001b[0;36m<module>\u001b[1;34m\u001b[0m\n\u001b[1;32m----> 1\u001b[1;33m \u001b[0mstack\u001b[0m\u001b[1;33m.\u001b[0m\u001b[0mpop\u001b[0m\u001b[1;33m(\u001b[0m\u001b[1;33m)\u001b[0m\u001b[1;33m\u001b[0m\u001b[1;33m\u001b[0m\u001b[0m\n\u001b[0m",
      "\u001b[1;31mIndexError\u001b[0m: pop from empty list"
     ]
    }
   ],
   "source": [
    "stack.pop()"
   ]
  },
  {
   "cell_type": "markdown",
   "id": "ee072265",
   "metadata": {},
   "source": [
    "As list big O notation is O(n), it is not recommended to use list to implement stack"
   ]
  },
  {
   "cell_type": "markdown",
   "id": "82f22eec",
   "metadata": {},
   "source": [
    "### Stack implementation using deque"
   ]
  },
  {
   "cell_type": "code",
   "execution_count": 14,
   "id": "6ef77b15",
   "metadata": {},
   "outputs": [],
   "source": [
    "from collections import deque"
   ]
  },
  {
   "cell_type": "code",
   "execution_count": 15,
   "id": "b0153be9",
   "metadata": {},
   "outputs": [],
   "source": [
    "s = deque()"
   ]
  },
  {
   "cell_type": "code",
   "execution_count": 16,
   "id": "b3ae51e4",
   "metadata": {},
   "outputs": [],
   "source": [
    "s.append(\"https://codebasics.io/\")\n",
    "s.append(\"https://codebasics.io/courses?price%5B0%5D=free\")\n",
    "s.append(\"https://codebasics.io/courses/data-structures-and-algorithms-in-python\")\n",
    "s.append(\"https://codebasics.io/courses/data-structures-and-algorithms-in-python/lecture/235\")"
   ]
  },
  {
   "cell_type": "code",
   "execution_count": 17,
   "id": "e966ae50",
   "metadata": {},
   "outputs": [
    {
     "data": {
      "text/plain": [
       "deque(['https://codebasics.io/',\n",
       "       'https://codebasics.io/courses?price%5B0%5D=free',\n",
       "       'https://codebasics.io/courses/data-structures-and-algorithms-in-python',\n",
       "       'https://codebasics.io/courses/data-structures-and-algorithms-in-python/lecture/235'])"
      ]
     },
     "execution_count": 17,
     "metadata": {},
     "output_type": "execute_result"
    }
   ],
   "source": [
    "s"
   ]
  },
  {
   "cell_type": "code",
   "execution_count": 18,
   "id": "d8124521",
   "metadata": {},
   "outputs": [
    {
     "data": {
      "text/plain": [
       "'https://codebasics.io/courses/data-structures-and-algorithms-in-python/lecture/235'"
      ]
     },
     "execution_count": 18,
     "metadata": {},
     "output_type": "execute_result"
    }
   ],
   "source": [
    "s.pop()"
   ]
  },
  {
   "cell_type": "code",
   "execution_count": 19,
   "id": "2d9418a7",
   "metadata": {},
   "outputs": [
    {
     "data": {
      "text/plain": [
       "deque(['https://codebasics.io/',\n",
       "       'https://codebasics.io/courses?price%5B0%5D=free',\n",
       "       'https://codebasics.io/courses/data-structures-and-algorithms-in-python'])"
      ]
     },
     "execution_count": 19,
     "metadata": {},
     "output_type": "execute_result"
    }
   ],
   "source": [
    "s"
   ]
  },
  {
   "cell_type": "markdown",
   "id": "726b57f9",
   "metadata": {},
   "source": [
    "### Class implementation of Stack"
   ]
  },
  {
   "cell_type": "code",
   "execution_count": 31,
   "id": "abdba427",
   "metadata": {},
   "outputs": [],
   "source": [
    "class stack:\n",
    "    def __init__(self):\n",
    "        self.container = deque()\n",
    "        \n",
    "    def push(self,data):\n",
    "        self.container.append(data)\n",
    "        \n",
    "    def pop(self):\n",
    "        return self.container.pop()\n",
    "        \n",
    "    def seek(self):\n",
    "        return self.container[-1]\n",
    "    \n",
    "    def is_empty(self):\n",
    "        if len(self.container)==0:\n",
    "            return True\n",
    "        else:\n",
    "            return False\n",
    "        \n",
    "    def len_of_stack(self):\n",
    "        return len(self.container)"
   ]
  },
  {
   "cell_type": "code",
   "execution_count": 32,
   "id": "cdd6670f",
   "metadata": {},
   "outputs": [],
   "source": [
    "ss = stack()"
   ]
  },
  {
   "cell_type": "code",
   "execution_count": 33,
   "id": "ed84193f",
   "metadata": {},
   "outputs": [
    {
     "data": {
      "text/plain": [
       "deque([])"
      ]
     },
     "execution_count": 33,
     "metadata": {},
     "output_type": "execute_result"
    }
   ],
   "source": [
    "ss.container"
   ]
  },
  {
   "cell_type": "code",
   "execution_count": 34,
   "id": "c92a68d7",
   "metadata": {},
   "outputs": [],
   "source": [
    "ss.push(40)"
   ]
  },
  {
   "cell_type": "code",
   "execution_count": 35,
   "id": "0cb42b77",
   "metadata": {},
   "outputs": [],
   "source": [
    "ss.push(50)"
   ]
  },
  {
   "cell_type": "code",
   "execution_count": 36,
   "id": "72752de3",
   "metadata": {},
   "outputs": [],
   "source": [
    "ss.push(60)"
   ]
  },
  {
   "cell_type": "code",
   "execution_count": 37,
   "id": "82863a6c",
   "metadata": {},
   "outputs": [
    {
     "data": {
      "text/plain": [
       "deque([40, 50, 60])"
      ]
     },
     "execution_count": 37,
     "metadata": {},
     "output_type": "execute_result"
    }
   ],
   "source": [
    "ss.container"
   ]
  },
  {
   "cell_type": "code",
   "execution_count": 38,
   "id": "e255e106",
   "metadata": {},
   "outputs": [
    {
     "data": {
      "text/plain": [
       "60"
      ]
     },
     "execution_count": 38,
     "metadata": {},
     "output_type": "execute_result"
    }
   ],
   "source": [
    "ss.pop()"
   ]
  },
  {
   "cell_type": "code",
   "execution_count": 39,
   "id": "7cd8c6fa",
   "metadata": {},
   "outputs": [
    {
     "data": {
      "text/plain": [
       "deque([40, 50])"
      ]
     },
     "execution_count": 39,
     "metadata": {},
     "output_type": "execute_result"
    }
   ],
   "source": [
    "ss.container"
   ]
  },
  {
   "cell_type": "code",
   "execution_count": 42,
   "id": "09f15eeb",
   "metadata": {},
   "outputs": [
    {
     "data": {
      "text/plain": [
       "50"
      ]
     },
     "execution_count": 42,
     "metadata": {},
     "output_type": "execute_result"
    }
   ],
   "source": [
    "ss.seek()"
   ]
  },
  {
   "cell_type": "code",
   "execution_count": 43,
   "id": "6d6233c3",
   "metadata": {},
   "outputs": [
    {
     "data": {
      "text/plain": [
       "deque([40, 50])"
      ]
     },
     "execution_count": 43,
     "metadata": {},
     "output_type": "execute_result"
    }
   ],
   "source": [
    "ss.container"
   ]
  },
  {
   "cell_type": "code",
   "execution_count": 44,
   "id": "1b49be94",
   "metadata": {},
   "outputs": [
    {
     "data": {
      "text/plain": [
       "50"
      ]
     },
     "execution_count": 44,
     "metadata": {},
     "output_type": "execute_result"
    }
   ],
   "source": [
    "ss.pop()"
   ]
  },
  {
   "cell_type": "code",
   "execution_count": 45,
   "id": "a568681e",
   "metadata": {},
   "outputs": [
    {
     "data": {
      "text/plain": [
       "1"
      ]
     },
     "execution_count": 45,
     "metadata": {},
     "output_type": "execute_result"
    }
   ],
   "source": [
    "ss.len_of_stack()"
   ]
  },
  {
   "cell_type": "code",
   "execution_count": 46,
   "id": "5aa58777",
   "metadata": {},
   "outputs": [
    {
     "data": {
      "text/plain": [
       "40"
      ]
     },
     "execution_count": 46,
     "metadata": {},
     "output_type": "execute_result"
    }
   ],
   "source": [
    "ss.pop()"
   ]
  },
  {
   "cell_type": "code",
   "execution_count": 47,
   "id": "14d331ec",
   "metadata": {},
   "outputs": [
    {
     "data": {
      "text/plain": [
       "True"
      ]
     },
     "execution_count": 47,
     "metadata": {},
     "output_type": "execute_result"
    }
   ],
   "source": [
    "ss.is_empty()"
   ]
  },
  {
   "cell_type": "markdown",
   "id": "31496f6e",
   "metadata": {},
   "source": [
    "### .Write a function in python that can reverse a string using stack data structure. Use Stack class from the tutorial. reverse_string(\"We will conquere COVID-19\") should return \"91-DIVOC ereuqnoc lliw eW\"\n",
    "\n"
   ]
  },
  {
   "cell_type": "code",
   "execution_count": 87,
   "id": "6ffbac97",
   "metadata": {},
   "outputs": [],
   "source": [
    "class stack:\n",
    "    def __init__(self):\n",
    "        self.container = deque()\n",
    "        \n",
    "    def push(self,data):\n",
    "        self.container.append(data)\n",
    "        \n",
    "    def pop(self):\n",
    "        return self.container.pop()\n",
    "        \n",
    "    def seek(self):\n",
    "        return self.container[-1]\n",
    "    \n",
    "    def is_empty(self):\n",
    "        if len(self.container)==0:\n",
    "            return True\n",
    "        else:\n",
    "            return False\n",
    "        \n",
    "    def len_of_stack(self):\n",
    "        return len(self.container)\n",
    "    \n",
    "    def store_string(self,data):\n",
    "        for i in data:\n",
    "            self.push(i)\n",
    "            \n",
    "    def reverse_string(self,data):\n",
    "        self.store_string(data)\n",
    "        output_string =\"\"\n",
    "        while self.len_of_stack() != 0:\n",
    "            output_string +=str(self.pop())\n",
    "            \n",
    "        return output_string"
   ]
  },
  {
   "cell_type": "code",
   "execution_count": 91,
   "id": "27f2f75d",
   "metadata": {},
   "outputs": [],
   "source": [
    "aa = stack()"
   ]
  },
  {
   "cell_type": "code",
   "execution_count": 92,
   "id": "540770e9",
   "metadata": {},
   "outputs": [
    {
     "data": {
      "text/plain": [
       "'91-DIVOC eruqnoc lliw ew'"
      ]
     },
     "execution_count": 92,
     "metadata": {},
     "output_type": "execute_result"
    }
   ],
   "source": [
    "aa.reverse_string(\"we will conqure COVID-19\")"
   ]
  },
  {
   "cell_type": "markdown",
   "id": "61c0463c",
   "metadata": {},
   "source": [
    "### Write a function in python that checks if paranthesis in the string are balanced or not. Possible parantheses are \"{}',\"()\" or \"[]\". Use Stack class from the tutorial. "
   ]
  },
  {
   "cell_type": "code",
   "execution_count": 104,
   "id": "aa43ca2c",
   "metadata": {},
   "outputs": [],
   "source": [
    "class stack:\n",
    "    def __init__(self):\n",
    "        self.container = deque()\n",
    "        \n",
    "    def push(self,data):\n",
    "        self.container.append(data)\n",
    "        \n",
    "    def pop(self):\n",
    "        return self.container.pop()\n",
    "        \n",
    "    def seek(self):\n",
    "        return self.container[-1]\n",
    "    \n",
    "    def is_empty(self):\n",
    "        if len(self.container)==0:\n",
    "            return True\n",
    "        else:\n",
    "            return False\n",
    "        \n",
    "    def len_of_stack(self):\n",
    "        return len(self.container)\n",
    "    \n",
    "    def store_string(self,data):\n",
    "        for i in data:\n",
    "            self.push(i)\n",
    "    \n",
    "    def is_match(self,c1,c2):\n",
    "        dd = {'(':\")\",\"[\":\"]\",\"{\":\"}\"}\n",
    "        \n",
    "        return dd[c1] == c2\n",
    "    \n",
    "    def check_paranthesis_balance(self,inpu):\n",
    "        for i in inpu:\n",
    "            if i ==\"(\" or i ==\"[\" or i ==\"{\":\n",
    "                self.push(i)\n",
    "            if i == \")\" or i ==\"]\" or i ==\"}\":\n",
    "                if self.len_of_stack() == 0:\n",
    "                    return False\n",
    "                if not self.is_match(self.pop(),i):\n",
    "                    return False\n",
    "                \n",
    "        return self.len_of_stack()==0\n",
    "                    "
   ]
  },
  {
   "cell_type": "code",
   "execution_count": 105,
   "id": "e2870695",
   "metadata": {},
   "outputs": [],
   "source": [
    "qq = stack()"
   ]
  },
  {
   "cell_type": "code",
   "execution_count": 106,
   "id": "9f207cb2",
   "metadata": {},
   "outputs": [
    {
     "data": {
      "text/plain": [
       "True"
      ]
     },
     "execution_count": 106,
     "metadata": {},
     "output_type": "execute_result"
    }
   ],
   "source": [
    "qq.check_paranthesis_balance(\"({a+b})\")"
   ]
  },
  {
   "cell_type": "code",
   "execution_count": 108,
   "id": "87b4dda6",
   "metadata": {},
   "outputs": [
    {
     "data": {
      "text/plain": [
       "False"
      ]
     },
     "execution_count": 108,
     "metadata": {},
     "output_type": "execute_result"
    }
   ],
   "source": [
    "qq.check_paranthesis_balance(\"))((a+b}{\")"
   ]
  },
  {
   "cell_type": "code",
   "execution_count": 109,
   "id": "8a7ef226",
   "metadata": {},
   "outputs": [
    {
     "data": {
      "text/plain": [
       "True"
      ]
     },
     "execution_count": 109,
     "metadata": {},
     "output_type": "execute_result"
    }
   ],
   "source": [
    "qq.check_paranthesis_balance(\"((a+b))\")"
   ]
  },
  {
   "cell_type": "code",
   "execution_count": null,
   "id": "e64196b9",
   "metadata": {},
   "outputs": [],
   "source": []
  }
 ],
 "metadata": {
  "kernelspec": {
   "display_name": "Python 3 (ipykernel)",
   "language": "python",
   "name": "python3"
  },
  "language_info": {
   "codemirror_mode": {
    "name": "ipython",
    "version": 3
   },
   "file_extension": ".py",
   "mimetype": "text/x-python",
   "name": "python",
   "nbconvert_exporter": "python",
   "pygments_lexer": "ipython3",
   "version": "3.9.7"
  }
 },
 "nbformat": 4,
 "nbformat_minor": 5
}
