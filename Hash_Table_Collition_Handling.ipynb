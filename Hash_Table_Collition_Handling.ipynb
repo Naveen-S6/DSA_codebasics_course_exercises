{
 "cells": [
  {
   "cell_type": "code",
   "execution_count": 16,
   "id": "12d3bebb",
   "metadata": {},
   "outputs": [],
   "source": [
    "class HashTable:\n",
    "    def __init__(self):\n",
    "        self.max = 100\n",
    "        self.arr = [[] for i in range(self.max)]\n",
    "        \n",
    "    def get_hash(self,key):\n",
    "        ha = 0\n",
    "        for char in key:\n",
    "            ha += ord(char)\n",
    "        return (ha % 100)\n",
    "    \n",
    "    def __setitem__(self,key,value):\n",
    "        ha = self.get_hash(key)\n",
    "        found = False\n",
    "        for idx, element in enumerate (self.arr[ha]):\n",
    "            if len(element) == 2 and element[0]==key:\n",
    "                self.arr[ha][idx]=(key,value)\n",
    "                found = True\n",
    "                break\n",
    "        if not found:\n",
    "            self.arr[ha].append((key,value))\n",
    "        \n",
    "    def __getitem__(self,key):\n",
    "        ha = self.get_hash(key)\n",
    "        for element in self.arr[ha]:\n",
    "            if element[0] == key:\n",
    "                return element[1]\n",
    "    \n",
    "    def __delitem__(self,key):\n",
    "        ha = self.get_hash(key)\n",
    "        for i, element in enumerate(self.arr[ha]):\n",
    "            if element[0]==key:\n",
    "                del self.arr[h][i]"
   ]
  },
  {
   "cell_type": "code",
   "execution_count": 7,
   "id": "ae6796fb",
   "metadata": {},
   "outputs": [],
   "source": [
    "ht = HashTable()"
   ]
  },
  {
   "cell_type": "code",
   "execution_count": 8,
   "id": "08a5c5cc",
   "metadata": {},
   "outputs": [],
   "source": [
    "ht[\"march 6\"] = 23"
   ]
  },
  {
   "cell_type": "code",
   "execution_count": 9,
   "id": "06d9c49f",
   "metadata": {},
   "outputs": [],
   "source": [
    "ht['march 17']=56"
   ]
  },
  {
   "cell_type": "code",
   "execution_count": 10,
   "id": "46f5ba21",
   "metadata": {},
   "outputs": [
    {
     "data": {
      "text/plain": [
       "59"
      ]
     },
     "execution_count": 10,
     "metadata": {},
     "output_type": "execute_result"
    }
   ],
   "source": [
    "ht.get_hash('march 17')"
   ]
  },
  {
   "cell_type": "code",
   "execution_count": 11,
   "id": "2b5df6d3",
   "metadata": {},
   "outputs": [],
   "source": [
    "ht[\"nn 9\"]=11"
   ]
  },
  {
   "cell_type": "code",
   "execution_count": 12,
   "id": "eef2f439",
   "metadata": {},
   "outputs": [
    {
     "data": {
      "text/plain": [
       "[[],\n",
       " [],\n",
       " [],\n",
       " [],\n",
       " [],\n",
       " [],\n",
       " [],\n",
       " [],\n",
       " [],\n",
       " [('march 6', 23), ('nn 9', 11)],\n",
       " [],\n",
       " [],\n",
       " [],\n",
       " [],\n",
       " [],\n",
       " [],\n",
       " [],\n",
       " [],\n",
       " [],\n",
       " [],\n",
       " [],\n",
       " [],\n",
       " [],\n",
       " [],\n",
       " [],\n",
       " [],\n",
       " [],\n",
       " [],\n",
       " [],\n",
       " [],\n",
       " [],\n",
       " [],\n",
       " [],\n",
       " [],\n",
       " [],\n",
       " [],\n",
       " [],\n",
       " [],\n",
       " [],\n",
       " [],\n",
       " [],\n",
       " [],\n",
       " [],\n",
       " [],\n",
       " [],\n",
       " [],\n",
       " [],\n",
       " [],\n",
       " [],\n",
       " [],\n",
       " [],\n",
       " [],\n",
       " [],\n",
       " [],\n",
       " [],\n",
       " [],\n",
       " [],\n",
       " [],\n",
       " [],\n",
       " [('march 17', 56)],\n",
       " [],\n",
       " [],\n",
       " [],\n",
       " [],\n",
       " [],\n",
       " [],\n",
       " [],\n",
       " [],\n",
       " [],\n",
       " [],\n",
       " [],\n",
       " [],\n",
       " [],\n",
       " [],\n",
       " [],\n",
       " [],\n",
       " [],\n",
       " [],\n",
       " [],\n",
       " [],\n",
       " [],\n",
       " [],\n",
       " [],\n",
       " [],\n",
       " [],\n",
       " [],\n",
       " [],\n",
       " [],\n",
       " [],\n",
       " [],\n",
       " [],\n",
       " [],\n",
       " [],\n",
       " [],\n",
       " [],\n",
       " [],\n",
       " [],\n",
       " [],\n",
       " [],\n",
       " []]"
      ]
     },
     "execution_count": 12,
     "metadata": {},
     "output_type": "execute_result"
    }
   ],
   "source": [
    "ht.arr"
   ]
  },
  {
   "cell_type": "code",
   "execution_count": 13,
   "id": "bb590be4",
   "metadata": {},
   "outputs": [
    {
     "data": {
      "text/plain": [
       "23"
      ]
     },
     "execution_count": 13,
     "metadata": {},
     "output_type": "execute_result"
    }
   ],
   "source": [
    "ht['march 6']"
   ]
  },
  {
   "cell_type": "code",
   "execution_count": 14,
   "id": "d3fbe705",
   "metadata": {},
   "outputs": [
    {
     "data": {
      "text/plain": [
       "11"
      ]
     },
     "execution_count": 14,
     "metadata": {},
     "output_type": "execute_result"
    }
   ],
   "source": [
    "ht['nn 9']"
   ]
  },
  {
   "cell_type": "code",
   "execution_count": null,
   "id": "2e2198e6",
   "metadata": {},
   "outputs": [],
   "source": []
  }
 ],
 "metadata": {
  "kernelspec": {
   "display_name": "Python 3 (ipykernel)",
   "language": "python",
   "name": "python3"
  },
  "language_info": {
   "codemirror_mode": {
    "name": "ipython",
    "version": 3
   },
   "file_extension": ".py",
   "mimetype": "text/x-python",
   "name": "python",
   "nbconvert_exporter": "python",
   "pygments_lexer": "ipython3",
   "version": "3.9.7"
  }
 },
 "nbformat": 4,
 "nbformat_minor": 5
}
