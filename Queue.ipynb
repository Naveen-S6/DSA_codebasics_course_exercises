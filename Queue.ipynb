{
 "cells": [
  {
   "cell_type": "markdown",
   "id": "1892e22c",
   "metadata": {},
   "source": [
    "### Queue data structure is first in first out data structure also known as FIFO. It can be used at many places typically for a producer consumer type of architecture where one component is producing information and other components are consuming them. Queue allows us to implement loosely coupled architecture which has many benefits."
   ]
  },
  {
   "cell_type": "markdown",
   "id": "481cf3e1",
   "metadata": {},
   "source": [
    "### Queue Implementation using list"
   ]
  },
  {
   "cell_type": "code",
   "execution_count": 2,
   "id": "31485dfb",
   "metadata": {},
   "outputs": [],
   "source": [
    "queue = []"
   ]
  },
  {
   "cell_type": "code",
   "execution_count": 3,
   "id": "63019a96",
   "metadata": {},
   "outputs": [],
   "source": [
    "queue.insert(0,35)"
   ]
  },
  {
   "cell_type": "code",
   "execution_count": 4,
   "id": "37a8c5ae",
   "metadata": {},
   "outputs": [],
   "source": [
    "queue.insert(0,45)"
   ]
  },
  {
   "cell_type": "code",
   "execution_count": 5,
   "id": "e99ee35a",
   "metadata": {},
   "outputs": [],
   "source": [
    "queue.insert(0,15)"
   ]
  },
  {
   "cell_type": "code",
   "execution_count": 6,
   "id": "e31140f4",
   "metadata": {},
   "outputs": [],
   "source": [
    "queue.insert(0,25)"
   ]
  },
  {
   "cell_type": "code",
   "execution_count": 7,
   "id": "fa4a9d0a",
   "metadata": {},
   "outputs": [
    {
     "data": {
      "text/plain": [
       "[25, 15, 45, 35]"
      ]
     },
     "execution_count": 7,
     "metadata": {},
     "output_type": "execute_result"
    }
   ],
   "source": [
    "queue"
   ]
  },
  {
   "cell_type": "code",
   "execution_count": 8,
   "id": "aacac874",
   "metadata": {},
   "outputs": [
    {
     "data": {
      "text/plain": [
       "35"
      ]
     },
     "execution_count": 8,
     "metadata": {},
     "output_type": "execute_result"
    }
   ],
   "source": [
    "queue.pop()"
   ]
  },
  {
   "cell_type": "code",
   "execution_count": 9,
   "id": "42eaf822",
   "metadata": {},
   "outputs": [
    {
     "data": {
      "text/plain": [
       "45"
      ]
     },
     "execution_count": 9,
     "metadata": {},
     "output_type": "execute_result"
    }
   ],
   "source": [
    "queue.pop()"
   ]
  },
  {
   "cell_type": "code",
   "execution_count": 10,
   "id": "4c8455f3",
   "metadata": {},
   "outputs": [
    {
     "data": {
      "text/plain": [
       "15"
      ]
     },
     "execution_count": 10,
     "metadata": {},
     "output_type": "execute_result"
    }
   ],
   "source": [
    "queue.pop()"
   ]
  },
  {
   "cell_type": "code",
   "execution_count": 11,
   "id": "933fe494",
   "metadata": {},
   "outputs": [
    {
     "data": {
      "text/plain": [
       "25"
      ]
     },
     "execution_count": 11,
     "metadata": {},
     "output_type": "execute_result"
    }
   ],
   "source": [
    "queue.pop()"
   ]
  },
  {
   "cell_type": "markdown",
   "id": "fff51b3a",
   "metadata": {},
   "source": [
    "As the list's big O complecity is O(n) for dynamic array concept, it is not recommended to use list for implementing queue"
   ]
  },
  {
   "cell_type": "markdown",
   "id": "fcc6d4b2",
   "metadata": {},
   "source": [
    "### Queue Implementation using deque"
   ]
  },
  {
   "cell_type": "code",
   "execution_count": 13,
   "id": "55608ad8",
   "metadata": {},
   "outputs": [],
   "source": [
    "from collections import deque"
   ]
  },
  {
   "cell_type": "code",
   "execution_count": 14,
   "id": "e7002e4b",
   "metadata": {},
   "outputs": [],
   "source": [
    "queue2 = deque()"
   ]
  },
  {
   "cell_type": "code",
   "execution_count": 15,
   "id": "1a03df89",
   "metadata": {},
   "outputs": [],
   "source": [
    "queue2.appendleft(10)"
   ]
  },
  {
   "cell_type": "code",
   "execution_count": 16,
   "id": "872ace57",
   "metadata": {},
   "outputs": [],
   "source": [
    "queue2.appendleft(30)"
   ]
  },
  {
   "cell_type": "code",
   "execution_count": 17,
   "id": "1c989de9",
   "metadata": {},
   "outputs": [],
   "source": [
    "queue2.appendleft(50)"
   ]
  },
  {
   "cell_type": "code",
   "execution_count": 18,
   "id": "d24f1bbf",
   "metadata": {},
   "outputs": [],
   "source": [
    "queue2.appendleft(70)"
   ]
  },
  {
   "cell_type": "code",
   "execution_count": 19,
   "id": "281dfa71",
   "metadata": {},
   "outputs": [
    {
     "data": {
      "text/plain": [
       "deque([70, 50, 30, 10])"
      ]
     },
     "execution_count": 19,
     "metadata": {},
     "output_type": "execute_result"
    }
   ],
   "source": [
    "queue2"
   ]
  },
  {
   "cell_type": "code",
   "execution_count": 20,
   "id": "e0ab8bb7",
   "metadata": {},
   "outputs": [
    {
     "data": {
      "text/plain": [
       "10"
      ]
     },
     "execution_count": 20,
     "metadata": {},
     "output_type": "execute_result"
    }
   ],
   "source": [
    "queue2.pop()"
   ]
  },
  {
   "cell_type": "code",
   "execution_count": 21,
   "id": "a1d1ad3c",
   "metadata": {},
   "outputs": [
    {
     "data": {
      "text/plain": [
       "30"
      ]
     },
     "execution_count": 21,
     "metadata": {},
     "output_type": "execute_result"
    }
   ],
   "source": [
    "queue2.pop()"
   ]
  },
  {
   "cell_type": "code",
   "execution_count": 22,
   "id": "a5acc9bd",
   "metadata": {},
   "outputs": [
    {
     "data": {
      "text/plain": [
       "50"
      ]
     },
     "execution_count": 22,
     "metadata": {},
     "output_type": "execute_result"
    }
   ],
   "source": [
    "queue2.pop()"
   ]
  },
  {
   "cell_type": "code",
   "execution_count": 23,
   "id": "0a6928b3",
   "metadata": {},
   "outputs": [
    {
     "data": {
      "text/plain": [
       "70"
      ]
     },
     "execution_count": 23,
     "metadata": {},
     "output_type": "execute_result"
    }
   ],
   "source": [
    "queue2.pop()"
   ]
  },
  {
   "cell_type": "code",
   "execution_count": 24,
   "id": "94f62c2c",
   "metadata": {},
   "outputs": [
    {
     "ename": "IndexError",
     "evalue": "pop from an empty deque",
     "output_type": "error",
     "traceback": [
      "\u001b[1;31m---------------------------------------------------------------------------\u001b[0m",
      "\u001b[1;31mIndexError\u001b[0m                                Traceback (most recent call last)",
      "\u001b[1;32m~\\AppData\\Local\\Temp/ipykernel_14296/848903990.py\u001b[0m in \u001b[0;36m<module>\u001b[1;34m\u001b[0m\n\u001b[1;32m----> 1\u001b[1;33m \u001b[0mqueue2\u001b[0m\u001b[1;33m.\u001b[0m\u001b[0mpop\u001b[0m\u001b[1;33m(\u001b[0m\u001b[1;33m)\u001b[0m\u001b[1;33m\u001b[0m\u001b[1;33m\u001b[0m\u001b[0m\n\u001b[0m",
      "\u001b[1;31mIndexError\u001b[0m: pop from an empty deque"
     ]
    }
   ],
   "source": [
    "queue2.pop()"
   ]
  },
  {
   "cell_type": "markdown",
   "id": "0ea90084",
   "metadata": {},
   "source": [
    "### Queue Implementation using deque in Oops"
   ]
  },
  {
   "cell_type": "code",
   "execution_count": 37,
   "id": "7fdc0912",
   "metadata": {},
   "outputs": [],
   "source": [
    "from collections import deque\n",
    "class queue:\n",
    "    def __init__(self):\n",
    "        self.buffer = deque()\n",
    "        \n",
    "    def enque(self,data):\n",
    "        self.buffer.appendleft(data)\n",
    "        \n",
    "    def deque(self):\n",
    "        return self.buffer.pop()\n",
    "        \n",
    "    def size_of_buffer(self):\n",
    "        return len(self.buffer)\n",
    "    \n",
    "    def is_empty(self):\n",
    "        return len(self.buffer)==0"
   ]
  },
  {
   "cell_type": "code",
   "execution_count": 38,
   "id": "bd9b63cd",
   "metadata": {},
   "outputs": [],
   "source": [
    "qu = queue()"
   ]
  },
  {
   "cell_type": "code",
   "execution_count": 39,
   "id": "8d0806c2",
   "metadata": {},
   "outputs": [],
   "source": [
    "qu.enque({\"June 6\":\"Naveen\",\"June 22\":\"Nandhini\"})"
   ]
  },
  {
   "cell_type": "code",
   "execution_count": 40,
   "id": "678ec391",
   "metadata": {},
   "outputs": [],
   "source": [
    "qu.enque({\"May 23\":\"Thanisha\",\"Feb 6\":\"Dharmika\"})"
   ]
  },
  {
   "cell_type": "code",
   "execution_count": 41,
   "id": "1241fbe9",
   "metadata": {},
   "outputs": [
    {
     "data": {
      "text/plain": [
       "deque([{'May 23': 'Thanisha', 'Feb 6': 'Dharmika'},\n",
       "       {'June 6': 'Naveen', 'June 22': 'Nandhini'}])"
      ]
     },
     "execution_count": 41,
     "metadata": {},
     "output_type": "execute_result"
    }
   ],
   "source": [
    "qu.buffer"
   ]
  },
  {
   "cell_type": "code",
   "execution_count": 42,
   "id": "490c37b6",
   "metadata": {},
   "outputs": [
    {
     "data": {
      "text/plain": [
       "2"
      ]
     },
     "execution_count": 42,
     "metadata": {},
     "output_type": "execute_result"
    }
   ],
   "source": [
    "qu.size_of_buffer()"
   ]
  },
  {
   "cell_type": "code",
   "execution_count": 43,
   "id": "1103cb7b",
   "metadata": {},
   "outputs": [
    {
     "data": {
      "text/plain": [
       "{'June 6': 'Naveen', 'June 22': 'Nandhini'}"
      ]
     },
     "execution_count": 43,
     "metadata": {},
     "output_type": "execute_result"
    }
   ],
   "source": [
    "qu.deque()"
   ]
  },
  {
   "cell_type": "code",
   "execution_count": 44,
   "id": "5502a6c9",
   "metadata": {},
   "outputs": [
    {
     "data": {
      "text/plain": [
       "{'May 23': 'Thanisha', 'Feb 6': 'Dharmika'}"
      ]
     },
     "execution_count": 44,
     "metadata": {},
     "output_type": "execute_result"
    }
   ],
   "source": [
    "qu.deque()"
   ]
  },
  {
   "cell_type": "code",
   "execution_count": 45,
   "id": "3a503fff",
   "metadata": {},
   "outputs": [
    {
     "data": {
      "text/plain": [
       "True"
      ]
     },
     "execution_count": 45,
     "metadata": {},
     "output_type": "execute_result"
    }
   ],
   "source": [
    "qu.is_empty()"
   ]
  },
  {
   "cell_type": "markdown",
   "id": "c0cc1ca6",
   "metadata": {},
   "source": [
    "### Design a food ordering system where your python program will run two threads,\n",
    "\n",
    "Place Order: This thread will be placing an order and inserting that into a queue. This thread places new order every 0.5 second. (hint: use time.sleep(0.5) function)\n",
    "Serve Order: This thread will server the order. All you need to do is pop the order out of the queue and print it. This thread serves an order every 2 seconds. Also start this thread 1 second after place order thread is started."
   ]
  },
  {
   "cell_type": "code",
   "execution_count": 104,
   "id": "18619b3e",
   "metadata": {},
   "outputs": [],
   "source": [
    "from collections import deque\n",
    "import time\n",
    "class queue:\n",
    "    def __init__(self):\n",
    "        self.buffer = deque()\n",
    "        \n",
    "    def enque(self,data):\n",
    "        self.buffer.appendleft(data)\n",
    "        \n",
    "    def deque(self):\n",
    "        return self.buffer.pop()\n",
    "        \n",
    "    def size_of_buffer(self):\n",
    "        return len(self.buffer)\n",
    "    \n",
    "    def is_empty(self):\n",
    "        return len(self.buffer)==0\n",
    "    \n",
    "    def place_order(self,list_of_order):\n",
    "        for i in list_of_order:\n",
    "            print(\"Placing the Order:\",i)\n",
    "            self.enque(i)\n",
    "            time.sleep(0.5)\n",
    "            \n",
    "    def serve_order(self):\n",
    "        while len(self.buffer)!=0:\n",
    "            print(\"serving the order:\",self.deque())\n",
    "            time.sleep(2)"
   ]
  },
  {
   "cell_type": "code",
   "execution_count": 105,
   "id": "07fac737",
   "metadata": {},
   "outputs": [],
   "source": [
    "ordd = ['pizza','samosa','pasta','biryani','burger']"
   ]
  },
  {
   "cell_type": "code",
   "execution_count": 106,
   "id": "de78b34b",
   "metadata": {},
   "outputs": [],
   "source": [
    "def without_threding(ordd):\n",
    "    orders = queue()\n",
    "    t = time.time()\n",
    "    orders.place_order(ordd)\n",
    "    time.sleep(1)\n",
    "    orders.serve_order()\n",
    "    print(\"Time Taken to finish:\",time.time()-t)"
   ]
  },
  {
   "cell_type": "code",
   "execution_count": 107,
   "id": "733815ce",
   "metadata": {},
   "outputs": [
    {
     "name": "stdout",
     "output_type": "stream",
     "text": [
      "Placing the Order: pizza\n",
      "Placing the Order: samosa\n",
      "Placing the Order: pasta\n",
      "Placing the Order: biryani\n",
      "Placing the Order: burger\n",
      "serving the order: pizza\n",
      "serving the order: samosa\n",
      "serving the order: pasta\n",
      "serving the order: biryani\n",
      "serving the order: burger\n",
      "Time Taken to finish: 13.591123580932617\n"
     ]
    }
   ],
   "source": [
    "without_threding(ordd)"
   ]
  },
  {
   "cell_type": "code",
   "execution_count": 108,
   "id": "88ab6323",
   "metadata": {},
   "outputs": [],
   "source": [
    "def with_threding(list_orders):\n",
    "    import threading\n",
    "    t1 = time.time()\n",
    "    orders = queue()\n",
    "    tr1 = threading.Thread(target=orders.place_order,args=(list_orders,))\n",
    "    tr2 = threading.Thread(target=orders.serve_order)\n",
    "    \n",
    "    tr1.start()\n",
    "    time.sleep(1)\n",
    "    tr2.start()\n",
    "    \n",
    "    tr1.join()\n",
    "    tr2.join()\n",
    "    \n",
    "    print(\"Time Take to finish:\",time.time()-t1)"
   ]
  },
  {
   "cell_type": "code",
   "execution_count": 109,
   "id": "43d5afbf",
   "metadata": {},
   "outputs": [
    {
     "name": "stdout",
     "output_type": "stream",
     "text": [
      "Placing the Order: pizza\n",
      "Placing the Order: samosa\n",
      "Placing the Order: pasta\n",
      "serving the order: pizza\n",
      "Placing the Order: biryani\n",
      "Placing the Order: burger\n",
      "serving the order: samosa\n",
      "serving the order: pasta\n",
      "serving the order: biryani\n",
      "serving the order: burger\n",
      "Time Take to finish: 11.06234359741211\n"
     ]
    }
   ],
   "source": [
    "with_threding(ordd)"
   ]
  },
  {
   "cell_type": "markdown",
   "id": "28421d80",
   "metadata": {},
   "source": [
    "### Write a program to print binary numbers from 1 to 10 using Queue. Use Queue class implemented in main tutorial. Binary sequence should look like,\n",
    "    1\n",
    "    10\n",
    "    11\n",
    "    100\n",
    "    101\n",
    "    110\n",
    "    111\n",
    "    1000\n",
    "    1001\n",
    "    1010\n",
    "Hint: Notice a pattern above. After 1 second and third number is 1+0 and 1+1. 4th and 5th number are second number (i.e. 10) + 0 and second number (i.e. 10) + 1.\n",
    "\n",
    "You also need to add front() function in queue class that can return the front element in the queue."
   ]
  },
  {
   "cell_type": "code",
   "execution_count": 114,
   "id": "c9cf217d",
   "metadata": {},
   "outputs": [],
   "source": [
    "class queue:\n",
    "    def __init__(self):\n",
    "        self.buffer = deque()\n",
    "        \n",
    "    def enque(self,data):\n",
    "        self.buffer.appendleft(data)\n",
    "        \n",
    "    def deque(self):\n",
    "        return self.buffer.pop()\n",
    "        \n",
    "    def size_of_buffer(self):\n",
    "        return len(self.buffer)\n",
    "    \n",
    "    def is_empty(self):\n",
    "        return len(self.buffer)==0\n",
    "    \n",
    "    def fornt(self):\n",
    "        return self.buffer[-1]\n",
    "    \n",
    "    def Generate_binary(self,n):\n",
    "        self.enque(\"1\")\n",
    "        for i in range(n):\n",
    "            fornt = self.fornt()\n",
    "            self.enque(fornt+\"0\")\n",
    "            self.enque(fornt+\"1\")\n",
    "            print(self.deque())\n",
    "            "
   ]
  },
  {
   "cell_type": "code",
   "execution_count": 115,
   "id": "117848c8",
   "metadata": {},
   "outputs": [],
   "source": [
    "binary = queue()"
   ]
  },
  {
   "cell_type": "code",
   "execution_count": 116,
   "id": "100a7e37",
   "metadata": {},
   "outputs": [
    {
     "name": "stdout",
     "output_type": "stream",
     "text": [
      "1\n",
      "10\n",
      "11\n",
      "100\n",
      "101\n",
      "110\n",
      "111\n",
      "1000\n",
      "1001\n",
      "1010\n"
     ]
    }
   ],
   "source": [
    "binary.Generate_binary(10)"
   ]
  },
  {
   "cell_type": "code",
   "execution_count": null,
   "id": "7445acde",
   "metadata": {},
   "outputs": [],
   "source": []
  }
 ],
 "metadata": {
  "kernelspec": {
   "display_name": "Python 3 (ipykernel)",
   "language": "python",
   "name": "python3"
  },
  "language_info": {
   "codemirror_mode": {
    "name": "ipython",
    "version": 3
   },
   "file_extension": ".py",
   "mimetype": "text/x-python",
   "name": "python",
   "nbconvert_exporter": "python",
   "pygments_lexer": "ipython3",
   "version": "3.9.7"
  }
 },
 "nbformat": 4,
 "nbformat_minor": 5
}
