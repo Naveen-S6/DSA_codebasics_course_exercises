{
 "cells": [
  {
   "cell_type": "markdown",
   "id": "d8dbb06c",
   "metadata": {},
   "source": [
    "### 1.Let us say your expense for every month are listed below,\n",
    "\n",
    "January - 2200\n",
    "\n",
    "February - 2350\n",
    "\n",
    "March - 2600\n",
    "\n",
    "April - 2130\n",
    "\n",
    "May - 2190\n",
    "\n",
    "Create a list to store these monthly expenses and using that find out,\n",
    "\n",
    "1. In Feb, how many dollars you spent extra compare to January?\n",
    "2. Find out your total expense in first quarter (first three months) of the year.\n",
    "3. Find out if you spent exactly 2000 dollars in any month\n",
    "4. June month just finished and your expense is 1980 dollar. Add this item to our monthly expense list\n",
    "5. You returned an item that you bought in a month of April and\n",
    "got a refund of 200$. Make a correction to your monthly expense list\n",
    "based on this"
   ]
  },
  {
   "cell_type": "code",
   "execution_count": 1,
   "id": "c92c7464",
   "metadata": {},
   "outputs": [],
   "source": [
    "expenses = [2200,2350,2600,2130,2190]"
   ]
  },
  {
   "cell_type": "markdown",
   "id": "50e5cadc",
   "metadata": {},
   "source": [
    "### 1. In Feb, how many dollars you spent extra compare to January?"
   ]
  },
  {
   "cell_type": "code",
   "execution_count": 3,
   "id": "c9deb898",
   "metadata": {},
   "outputs": [],
   "source": [
    "Extra = expenses[1] - expenses[0] "
   ]
  },
  {
   "cell_type": "code",
   "execution_count": 6,
   "id": "5a555866",
   "metadata": {},
   "outputs": [
    {
     "name": "stdout",
     "output_type": "stream",
     "text": [
      "150 is spent extra than january\n"
     ]
    }
   ],
   "source": [
    "print(Extra, \"is spent extra than january\")"
   ]
  },
  {
   "cell_type": "markdown",
   "id": "341ccc34",
   "metadata": {},
   "source": [
    "### 2. Find out your total expense in first quarter (first three months) of the year."
   ]
  },
  {
   "cell_type": "code",
   "execution_count": 7,
   "id": "78869652",
   "metadata": {},
   "outputs": [],
   "source": [
    "total_quat = sum(expenses[:2])"
   ]
  },
  {
   "cell_type": "code",
   "execution_count": 8,
   "id": "4e5fbc94",
   "metadata": {},
   "outputs": [
    {
     "name": "stdout",
     "output_type": "stream",
     "text": [
      "The first three months total expense is: 4550\n"
     ]
    }
   ],
   "source": [
    "print(\"The first three months total expense is:\",total_quat)"
   ]
  },
  {
   "cell_type": "markdown",
   "id": "bff06b72",
   "metadata": {},
   "source": [
    "### 3. Find out if you spent exactly 2000 dollars in any month"
   ]
  },
  {
   "cell_type": "code",
   "execution_count": 10,
   "id": "4b670450",
   "metadata": {},
   "outputs": [
    {
     "name": "stdout",
     "output_type": "stream",
     "text": [
      "No, I haven't\n"
     ]
    }
   ],
   "source": [
    "if 2000 in expenses:\n",
    "    print(\"Yes, I have spent\")\n",
    "else:\n",
    "    print(\"No, I haven't\")"
   ]
  },
  {
   "cell_type": "markdown",
   "id": "ea60aada",
   "metadata": {},
   "source": [
    "### 4. June month just finished and your expense is 1980 dollar. Add this item to our monthly expense list"
   ]
  },
  {
   "cell_type": "code",
   "execution_count": 11,
   "id": "d9e52986",
   "metadata": {},
   "outputs": [],
   "source": [
    "expenses.append(1980)"
   ]
  },
  {
   "cell_type": "code",
   "execution_count": 12,
   "id": "7225db91",
   "metadata": {},
   "outputs": [
    {
     "data": {
      "text/plain": [
       "[2200, 2350, 2600, 2130, 2190, 1980]"
      ]
     },
     "execution_count": 12,
     "metadata": {},
     "output_type": "execute_result"
    }
   ],
   "source": [
    "expenses"
   ]
  },
  {
   "cell_type": "markdown",
   "id": "46efc237",
   "metadata": {},
   "source": [
    "### 5. You returned an item that you bought in a month of April and got a refund of 200. Make a correction to your monthly expense list based on this"
   ]
  },
  {
   "cell_type": "code",
   "execution_count": 13,
   "id": "cafcf254",
   "metadata": {},
   "outputs": [],
   "source": [
    "expenses[3] -= 200"
   ]
  },
  {
   "cell_type": "code",
   "execution_count": 14,
   "id": "be121cde",
   "metadata": {},
   "outputs": [
    {
     "data": {
      "text/plain": [
       "[2200, 2350, 2600, 1930, 2190, 1980]"
      ]
     },
     "execution_count": 14,
     "metadata": {},
     "output_type": "execute_result"
    }
   ],
   "source": [
    "expenses"
   ]
  },
  {
   "cell_type": "markdown",
   "id": "48e8277e",
   "metadata": {},
   "source": [
    "### 2.You have a list of your favourite marvel super heros.\n",
    "\n",
    "heros=['spider man','thor','hulk','iron man','captain america']\n",
    "Using this find out,\n",
    "\n",
    "1. Length of the list\n",
    "2. Add 'black panther' at the end of this list\n",
    "3. You realize that you need to add 'black panther' after 'hulk',\n",
    "   so remove it from the list first and then add it after 'hulk'\n",
    "4. Now you don't like thor and hulk because they get angry easily :)\n",
    "   So you want to remove thor and hulk from list and replace them with doctor strange (because he is cool).\n",
    "   Do that with one line of code.\n",
    "5. Sort the heros list in alphabetical order (Hint. Use dir() functions to list down all functions available in list)"
   ]
  },
  {
   "cell_type": "code",
   "execution_count": 30,
   "id": "1c098868",
   "metadata": {},
   "outputs": [],
   "source": [
    "heros=['spider man','thor','hulk','iron man','captain america']"
   ]
  },
  {
   "cell_type": "markdown",
   "id": "712a2e38",
   "metadata": {},
   "source": [
    "### 1. Length of the list"
   ]
  },
  {
   "cell_type": "code",
   "execution_count": 31,
   "id": "f91e4473",
   "metadata": {},
   "outputs": [],
   "source": [
    "Heros_count = len(heros)"
   ]
  },
  {
   "cell_type": "code",
   "execution_count": 32,
   "id": "9c35080e",
   "metadata": {},
   "outputs": [
    {
     "name": "stdout",
     "output_type": "stream",
     "text": [
      "5 Heros are there\n"
     ]
    }
   ],
   "source": [
    "print(Heros_count, \"Heros are there\")"
   ]
  },
  {
   "cell_type": "markdown",
   "id": "92fd1de7",
   "metadata": {},
   "source": [
    "### 2. Add 'black panther' at the end of this list"
   ]
  },
  {
   "cell_type": "code",
   "execution_count": 33,
   "id": "866b5508",
   "metadata": {},
   "outputs": [],
   "source": [
    "heros.append(\"black panther\")"
   ]
  },
  {
   "cell_type": "code",
   "execution_count": 34,
   "id": "15a8b9aa",
   "metadata": {},
   "outputs": [
    {
     "data": {
      "text/plain": [
       "['spider man', 'thor', 'hulk', 'iron man', 'captain america', 'black panther']"
      ]
     },
     "execution_count": 34,
     "metadata": {},
     "output_type": "execute_result"
    }
   ],
   "source": [
    "heros"
   ]
  },
  {
   "cell_type": "markdown",
   "id": "ab8b79e8",
   "metadata": {},
   "source": [
    "### 3. You realize that you need to add 'black panther' after 'hulk', so remove it from the list first and then add it after 'hulk'"
   ]
  },
  {
   "cell_type": "code",
   "execution_count": 35,
   "id": "734ced59",
   "metadata": {},
   "outputs": [],
   "source": [
    "heros.remove('black panther')"
   ]
  },
  {
   "cell_type": "code",
   "execution_count": 36,
   "id": "6911dd12",
   "metadata": {},
   "outputs": [
    {
     "data": {
      "text/plain": [
       "['spider man', 'thor', 'hulk', 'iron man', 'captain america']"
      ]
     },
     "execution_count": 36,
     "metadata": {},
     "output_type": "execute_result"
    }
   ],
   "source": [
    "heros"
   ]
  },
  {
   "cell_type": "code",
   "execution_count": 37,
   "id": "2fea82ba",
   "metadata": {},
   "outputs": [],
   "source": [
    "place = heros.index('hulk')"
   ]
  },
  {
   "cell_type": "code",
   "execution_count": 38,
   "id": "35800a1f",
   "metadata": {},
   "outputs": [],
   "source": [
    "heros.insert(place+1,'black panther')"
   ]
  },
  {
   "cell_type": "code",
   "execution_count": 39,
   "id": "697093da",
   "metadata": {},
   "outputs": [
    {
     "data": {
      "text/plain": [
       "['spider man', 'thor', 'hulk', 'black panther', 'iron man', 'captain america']"
      ]
     },
     "execution_count": 39,
     "metadata": {},
     "output_type": "execute_result"
    }
   ],
   "source": [
    "heros"
   ]
  },
  {
   "cell_type": "markdown",
   "id": "c56165c4",
   "metadata": {},
   "source": [
    "### 4. Now you don't like thor and hulk because they get angry easily :) So you want to remove thor and hulk from list and replace them with doctor strange (because he is cool). Do that with one line of code."
   ]
  },
  {
   "cell_type": "code",
   "execution_count": 42,
   "id": "65abc994",
   "metadata": {},
   "outputs": [],
   "source": [
    "heros[1:3] = ['doctor stange']"
   ]
  },
  {
   "cell_type": "code",
   "execution_count": 43,
   "id": "04fdca72",
   "metadata": {},
   "outputs": [
    {
     "data": {
      "text/plain": [
       "['spider man', 'doctor stange', 'black panther', 'iron man', 'captain america']"
      ]
     },
     "execution_count": 43,
     "metadata": {},
     "output_type": "execute_result"
    }
   ],
   "source": [
    "heros"
   ]
  },
  {
   "cell_type": "markdown",
   "id": "5a594248",
   "metadata": {},
   "source": [
    "### 5. Sort the heros list in alphabetical order (Hint. Use dir() functions to list down all functions available in list)"
   ]
  },
  {
   "cell_type": "code",
   "execution_count": 44,
   "id": "ccacd069",
   "metadata": {},
   "outputs": [],
   "source": [
    "heros.sort()"
   ]
  },
  {
   "cell_type": "code",
   "execution_count": 45,
   "id": "3429f918",
   "metadata": {},
   "outputs": [
    {
     "data": {
      "text/plain": [
       "['black panther', 'captain america', 'doctor stange', 'iron man', 'spider man']"
      ]
     },
     "execution_count": 45,
     "metadata": {},
     "output_type": "execute_result"
    }
   ],
   "source": [
    "heros"
   ]
  },
  {
   "cell_type": "markdown",
   "id": "4e082f49",
   "metadata": {},
   "source": [
    "### 3.Create a list of all odd numbers between 1 and a max number. Max number is something you need to take from a user using input() function"
   ]
  },
  {
   "cell_type": "code",
   "execution_count": 50,
   "id": "772df6a2",
   "metadata": {},
   "outputs": [],
   "source": [
    "def createlist():\n",
    "    n = input(\"Enter the max number:\")\n",
    "    output = []\n",
    "    for i in range(int(n)+1):\n",
    "        if i % 2 != 0:\n",
    "            output.append(i)\n",
    "            \n",
    "    return output"
   ]
  },
  {
   "cell_type": "code",
   "execution_count": 51,
   "id": "c53f5d61",
   "metadata": {},
   "outputs": [
    {
     "name": "stdout",
     "output_type": "stream",
     "text": [
      "Enter the max number:20\n"
     ]
    },
    {
     "data": {
      "text/plain": [
       "[1, 3, 5, 7, 9, 11, 13, 15, 17, 19]"
      ]
     },
     "execution_count": 51,
     "metadata": {},
     "output_type": "execute_result"
    }
   ],
   "source": [
    "createlist()"
   ]
  },
  {
   "cell_type": "code",
   "execution_count": null,
   "id": "05b03d8a",
   "metadata": {},
   "outputs": [],
   "source": []
  }
 ],
 "metadata": {
  "kernelspec": {
   "display_name": "Python 3 (ipykernel)",
   "language": "python",
   "name": "python3"
  },
  "language_info": {
   "codemirror_mode": {
    "name": "ipython",
    "version": 3
   },
   "file_extension": ".py",
   "mimetype": "text/x-python",
   "name": "python",
   "nbconvert_exporter": "python",
   "pygments_lexer": "ipython3",
   "version": "3.9.7"
  }
 },
 "nbformat": 4,
 "nbformat_minor": 5
}
