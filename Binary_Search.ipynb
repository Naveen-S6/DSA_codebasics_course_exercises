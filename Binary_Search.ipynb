{
 "cells": [
  {
   "cell_type": "code",
   "execution_count": 6,
   "id": "1d30b671",
   "metadata": {},
   "outputs": [],
   "source": [
    "import time"
   ]
  },
  {
   "cell_type": "code",
   "execution_count": 36,
   "id": "17e12235",
   "metadata": {},
   "outputs": [],
   "source": [
    "def Binary_search(number_list,search_number):\n",
    "    t1 = time.time()\n",
    "    left_index = 0\n",
    "    right_index = len(number_list) - 1\n",
    "    mid_index = 0\n",
    "    \n",
    "    while left_index <= right_index:\n",
    "        mid_index = (left_index+right_index)//2\n",
    "        mid_num = number_list[mid_index]\n",
    "        \n",
    "        if mid_num == search_number:\n",
    "            print(\"Time taken to finish:\",time.time()-t1)\n",
    "            return mid_index\n",
    "        \n",
    "        if mid_num < search_number:\n",
    "            left_index = mid_index +1\n",
    "        else:\n",
    "            right_index = mid_index - 1\n",
    "    print(\"Time taken to finish:\",time.time()-t1)\n",
    "    return -1"
   ]
  },
  {
   "cell_type": "code",
   "execution_count": 37,
   "id": "e78e6f11",
   "metadata": {},
   "outputs": [],
   "source": [
    "def Linear_search(num_list,search_num):\n",
    "    t = time.time()\n",
    "    for i,num in enumerate(num_list):\n",
    "        if num == search_num:\n",
    "            index = i\n",
    "    print(\"time taken to finish:\",time.time()-t)\n",
    "    return index"
   ]
  },
  {
   "cell_type": "code",
   "execution_count": 41,
   "id": "6d9551ee",
   "metadata": {},
   "outputs": [],
   "source": [
    "num = [i for i in range(100000000)]"
   ]
  },
  {
   "cell_type": "code",
   "execution_count": 45,
   "id": "76b108b7",
   "metadata": {},
   "outputs": [
    {
     "name": "stdout",
     "output_type": "stream",
     "text": [
      "Time taken to finish: 0.0\n"
     ]
    },
    {
     "data": {
      "text/plain": [
       "9999999"
      ]
     },
     "execution_count": 45,
     "metadata": {},
     "output_type": "execute_result"
    }
   ],
   "source": [
    "Binary_search(num,9999999)"
   ]
  },
  {
   "cell_type": "code",
   "execution_count": 46,
   "id": "8f072a02",
   "metadata": {},
   "outputs": [
    {
     "name": "stdout",
     "output_type": "stream",
     "text": [
      "time taken to finish: 4.61052942276001\n"
     ]
    },
    {
     "data": {
      "text/plain": [
       "9999999"
      ]
     },
     "execution_count": 46,
     "metadata": {},
     "output_type": "execute_result"
    }
   ],
   "source": [
    "Linear_search(num,9999999)"
   ]
  },
  {
   "cell_type": "code",
   "execution_count": 1,
   "id": "c02134b4",
   "metadata": {},
   "outputs": [],
   "source": [
    "def Binary_search_recursive(num_list,search_num,left_index,right_index):\n",
    "    mid_index = (left_index + right_index) // 2\n",
    "    \n",
    "    if mid_index >= len(num_list) or mid_index<0:\n",
    "        return -1\n",
    "    \n",
    "    mid_num = num_list[mid_index]\n",
    "    if right_index < left_index:\n",
    "        return -1\n",
    "    \n",
    "    if mid_num == search_num:\n",
    "        return mid_index\n",
    "    \n",
    "    if mid_num < search_num:\n",
    "        return Binary_search_recursive(num_list,search_num,mid_index+1,right_index)\n",
    "    else:\n",
    "        return Binary_search_recursive(num_list,search_num,left_index,mid_index-1)"
   ]
  },
  {
   "cell_type": "code",
   "execution_count": 2,
   "id": "2aaa2a0b",
   "metadata": {},
   "outputs": [],
   "source": [
    "numm = [11,21,34,45,52,67,73,88,92]"
   ]
  },
  {
   "cell_type": "code",
   "execution_count": 3,
   "id": "81f46917",
   "metadata": {},
   "outputs": [
    {
     "data": {
      "text/plain": [
       "-1"
      ]
     },
     "execution_count": 3,
     "metadata": {},
     "output_type": "execute_result"
    }
   ],
   "source": [
    "Binary_search_recursive(numm,93,0,len(numm))"
   ]
  },
  {
   "cell_type": "markdown",
   "id": "b58c646b",
   "metadata": {},
   "source": [
    "### When I try to find number 5 in below list using binary search, it doesn't work and returns me -1 index. Why is that?\n",
    "\n",
    "numbers = [1,4,6,9,10,5,7]"
   ]
  },
  {
   "cell_type": "markdown",
   "id": "4b313b79",
   "metadata": {},
   "source": [
    "Binary search works only in the sorted array. This array not in sorted format, so the error is occuring, after sorting the array, it will work fine"
   ]
  },
  {
   "cell_type": "code",
   "execution_count": 27,
   "id": "39d48de0",
   "metadata": {},
   "outputs": [],
   "source": [
    "numbers= [1,4,6,9,10,5,7]"
   ]
  },
  {
   "cell_type": "code",
   "execution_count": 28,
   "id": "47ba1058",
   "metadata": {},
   "outputs": [
    {
     "data": {
      "text/plain": [
       "-1"
      ]
     },
     "execution_count": 28,
     "metadata": {},
     "output_type": "execute_result"
    }
   ],
   "source": [
    "Binary_search_recursive(numbers,5,0,len(numbers))"
   ]
  },
  {
   "cell_type": "code",
   "execution_count": 29,
   "id": "6ef067db",
   "metadata": {},
   "outputs": [],
   "source": [
    "numbers.sort()"
   ]
  },
  {
   "cell_type": "code",
   "execution_count": 30,
   "id": "73cd6b17",
   "metadata": {},
   "outputs": [
    {
     "data": {
      "text/plain": [
       "[1, 4, 5, 6, 7, 9, 10]"
      ]
     },
     "execution_count": 30,
     "metadata": {},
     "output_type": "execute_result"
    }
   ],
   "source": [
    "numbers"
   ]
  },
  {
   "cell_type": "code",
   "execution_count": 31,
   "id": "8b1fc978",
   "metadata": {},
   "outputs": [
    {
     "data": {
      "text/plain": [
       "2"
      ]
     },
     "execution_count": 31,
     "metadata": {},
     "output_type": "execute_result"
    }
   ],
   "source": [
    "Binary_search_recursive(numbers,5,0,len(numbers))"
   ]
  },
  {
   "cell_type": "markdown",
   "id": "0aa5150e",
   "metadata": {},
   "source": [
    "### Find index of all the occurances of a number from sorted list\n",
    "\n",
    "numbers = [1,4,6,9,11,15,15,15,17,21,34,34,56]\n",
    "number_to_find = 15  \n",
    "This should return 5,6,7 as indices containing number 15 in the array"
   ]
  },
  {
   "cell_type": "code",
   "execution_count": 13,
   "id": "d3dcac59",
   "metadata": {},
   "outputs": [],
   "source": [
    "def find_occurance(numbers,search_num):\n",
    "    index = Binary_search_recursive(numbers,search_num,0,len(numbers)-1)\n",
    "    indices = [index]\n",
    "    \n",
    "    i = index -1\n",
    "    #left side check\n",
    "    while i >=0:\n",
    "        if numbers[i] == search_num:\n",
    "            indices.append(i)\n",
    "        else:\n",
    "            break\n",
    "        i -= 1\n",
    "    \n",
    "    #right side check\n",
    "    i = index +1\n",
    "    while i <len(numbers):\n",
    "        if numbers[i] == search_num:\n",
    "            indices.append(i)\n",
    "        else:\n",
    "            break\n",
    "        i+=1\n",
    "    indices.sort()\n",
    "    return indices"
   ]
  },
  {
   "cell_type": "code",
   "execution_count": 14,
   "id": "989788b8",
   "metadata": {},
   "outputs": [],
   "source": [
    "numbers = [1,4,6,9,11,15,15,15,17,21,34,34,56]"
   ]
  },
  {
   "cell_type": "code",
   "execution_count": 15,
   "id": "329377f9",
   "metadata": {},
   "outputs": [
    {
     "data": {
      "text/plain": [
       "[5, 6, 7]"
      ]
     },
     "execution_count": 15,
     "metadata": {},
     "output_type": "execute_result"
    }
   ],
   "source": [
    "find_occurance(numbers,15)"
   ]
  },
  {
   "cell_type": "code",
   "execution_count": null,
   "id": "b636905c",
   "metadata": {},
   "outputs": [],
   "source": []
  }
 ],
 "metadata": {
  "kernelspec": {
   "display_name": "Python 3 (ipykernel)",
   "language": "python",
   "name": "python3"
  },
  "language_info": {
   "codemirror_mode": {
    "name": "ipython",
    "version": 3
   },
   "file_extension": ".py",
   "mimetype": "text/x-python",
   "name": "python",
   "nbconvert_exporter": "python",
   "pygments_lexer": "ipython3",
   "version": "3.9.7"
  }
 },
 "nbformat": 4,
 "nbformat_minor": 5
}
