{
 "cells": [
  {
   "cell_type": "code",
   "execution_count": 123,
   "id": "6aaef58a",
   "metadata": {},
   "outputs": [],
   "source": [
    "class BinaryTreeNode:\n",
    "    def __init__(self,data):\n",
    "        self.data = data\n",
    "        self.left = None\n",
    "        self.right = None\n",
    "        \n",
    "    def add_child(self,data):\n",
    "        # returning if the value already exists\n",
    "        if self.data == data:\n",
    "            return\n",
    "        \n",
    "        #adding value to left if lower than node data\n",
    "        if data< self.data:\n",
    "            if self.left:\n",
    "                self.left.add_child(data)\n",
    "            else:\n",
    "                self.left = BinaryTreeNode(data)\n",
    "        else:  \n",
    "            #adding value to right if higher than node data\n",
    "            if self.right:\n",
    "                self.right.add_child(data)\n",
    "            else:\n",
    "                self.right = BinaryTreeNode(data)\n",
    "            \n",
    "    def Inorder_traversal(self):\n",
    "        elements = []\n",
    "        \n",
    "        if self.left:\n",
    "            elements += self.left.Inorder_traversal()\n",
    "        \n",
    "        elements.append(self.data)\n",
    "        \n",
    "        if self.right:\n",
    "            elements += self.right.Inorder_traversal()\n",
    "            \n",
    "        return elements\n",
    "        \n",
    "    def search(self,val):\n",
    "        if self.data == val:\n",
    "            return True\n",
    "        \n",
    "        if val< self.data:\n",
    "            #It may be in left subtree\n",
    "            if self.left:\n",
    "                return self.left.search(val)\n",
    "            else:\n",
    "                return False\n",
    "            \n",
    "        else:\n",
    "            #It may be in right subtree\n",
    "            if self.right:\n",
    "                return self.right.search(val)\n",
    "            else:\n",
    "                return False\n",
    "            \n",
    "    def find_min(self):\n",
    "        if self.left:\n",
    "            return self.left.find_min()\n",
    "        else:\n",
    "            return self.data\n",
    "    \n",
    "    def find_max(self):\n",
    "        if self.right:\n",
    "            return self.right.find_max()\n",
    "        else:\n",
    "            return self.data\n",
    "        \n",
    "    def calculate_sum(self):\n",
    "        total = 0\n",
    "        \n",
    "        if self.left:\n",
    "            total += self.left.calculate_sum()\n",
    "        \n",
    "        total += self.data\n",
    "        \n",
    "        if self.right:\n",
    "            total += self.right.calculate_sum()\n",
    "\n",
    "        return total\n",
    "        \n",
    "    def postorder_traversal(self):\n",
    "        elements = []\n",
    "        \n",
    "        if self.left:\n",
    "            elements += self.left.postorder_traversal()\n",
    "        if self.right:\n",
    "            elements += self.right.postorder_traversal()\n",
    "            \n",
    "        elements.append(self.data)\n",
    "        \n",
    "        return elements\n",
    "    \n",
    "    def preorder_traversal(self):\n",
    "        \n",
    "        elements = []\n",
    "        elements.append(self.data)\n",
    "        \n",
    "        if self.left:\n",
    "            elements += self.left.preorder_traversal()\n",
    "            \n",
    "        if self.right:\n",
    "            elements += self.right.preorder_traversal()\n",
    "            \n",
    "        return elements"
   ]
  },
  {
   "cell_type": "code",
   "execution_count": 124,
   "id": "3f1c0497",
   "metadata": {},
   "outputs": [],
   "source": [
    "def build_tree(ele):\n",
    "    root = BinaryTreeNode(ele[0])\n",
    "    for i in range(1,len(ele)):\n",
    "        root.add_child(ele[i])\n",
    "        \n",
    "    return root"
   ]
  },
  {
   "cell_type": "code",
   "execution_count": 137,
   "id": "944553c4",
   "metadata": {},
   "outputs": [
    {
     "data": {
      "text/plain": [
       "18"
      ]
     },
     "execution_count": 137,
     "metadata": {},
     "output_type": "execute_result"
    }
   ],
   "source": [
    "numbers = [1,2,4,5,6]\n",
    "sum(numbers)"
   ]
  },
  {
   "cell_type": "code",
   "execution_count": 138,
   "id": "4bb9cea5",
   "metadata": {},
   "outputs": [],
   "source": [
    "root = build_tree(numbers)"
   ]
  },
  {
   "cell_type": "code",
   "execution_count": 139,
   "id": "1be5b7fa",
   "metadata": {},
   "outputs": [
    {
     "name": "stdout",
     "output_type": "stream",
     "text": [
      "<__main__.BinaryTreeNode object at 0x0000022D0F574AF0>\n"
     ]
    }
   ],
   "source": [
    "print(root)"
   ]
  },
  {
   "cell_type": "code",
   "execution_count": 140,
   "id": "85cc5b20",
   "metadata": {},
   "outputs": [
    {
     "data": {
      "text/plain": [
       "[1, 2, 4, 5, 6]"
      ]
     },
     "execution_count": 140,
     "metadata": {},
     "output_type": "execute_result"
    }
   ],
   "source": [
    "root.Inorder_traversal()"
   ]
  },
  {
   "cell_type": "code",
   "execution_count": 141,
   "id": "62722923",
   "metadata": {},
   "outputs": [
    {
     "name": "stdout",
     "output_type": "stream",
     "text": [
      "False\n"
     ]
    }
   ],
   "source": [
    "print(root.search(223))"
   ]
  },
  {
   "cell_type": "code",
   "execution_count": 142,
   "id": "adbe3a17",
   "metadata": {},
   "outputs": [
    {
     "data": {
      "text/plain": [
       "1"
      ]
     },
     "execution_count": 142,
     "metadata": {},
     "output_type": "execute_result"
    }
   ],
   "source": [
    "root.find_min()"
   ]
  },
  {
   "cell_type": "code",
   "execution_count": 143,
   "id": "c711b502",
   "metadata": {},
   "outputs": [
    {
     "data": {
      "text/plain": [
       "6"
      ]
     },
     "execution_count": 143,
     "metadata": {},
     "output_type": "execute_result"
    }
   ],
   "source": [
    "root.find_max()"
   ]
  },
  {
   "cell_type": "code",
   "execution_count": 134,
   "id": "91f24502",
   "metadata": {},
   "outputs": [
    {
     "data": {
      "text/plain": [
       "25"
      ]
     },
     "execution_count": 134,
     "metadata": {},
     "output_type": "execute_result"
    }
   ],
   "source": [
    "root.calculate_sum()"
   ]
  },
  {
   "cell_type": "code",
   "execution_count": 135,
   "id": "68ee8ebe",
   "metadata": {},
   "outputs": [
    {
     "data": {
      "text/plain": [
       "[6, 5, 4, 2, 1, 7]"
      ]
     },
     "execution_count": 135,
     "metadata": {},
     "output_type": "execute_result"
    }
   ],
   "source": [
    "root.postorder_traversal()"
   ]
  },
  {
   "cell_type": "code",
   "execution_count": 136,
   "id": "0f8d7946",
   "metadata": {},
   "outputs": [
    {
     "data": {
      "text/plain": [
       "[7, 1, 2, 4, 5, 6]"
      ]
     },
     "execution_count": 136,
     "metadata": {},
     "output_type": "execute_result"
    }
   ],
   "source": [
    "root.preorder_traversal()"
   ]
  },
  {
   "cell_type": "code",
   "execution_count": null,
   "id": "f48e0021",
   "metadata": {},
   "outputs": [],
   "source": []
  }
 ],
 "metadata": {
  "kernelspec": {
   "display_name": "Python 3 (ipykernel)",
   "language": "python",
   "name": "python3"
  },
  "language_info": {
   "codemirror_mode": {
    "name": "ipython",
    "version": 3
   },
   "file_extension": ".py",
   "mimetype": "text/x-python",
   "name": "python",
   "nbconvert_exporter": "python",
   "pygments_lexer": "ipython3",
   "version": "3.9.7"
  }
 },
 "nbformat": 4,
 "nbformat_minor": 5
}
