{
 "cells": [
  {
   "cell_type": "code",
   "execution_count": 1,
   "id": "05949a61",
   "metadata": {},
   "outputs": [],
   "source": [
    "class Node:\n",
    "    def __init__(self,data=None,Next=None,Previous=None):\n",
    "        self.data = data\n",
    "        self.next = Next\n",
    "        self.previous = Previous"
   ]
  },
  {
   "cell_type": "code",
   "execution_count": 73,
   "id": "f9000295",
   "metadata": {},
   "outputs": [],
   "source": [
    "class DoublyLinkedList:\n",
    "    def __init__(self):\n",
    "        self.head = None\n",
    "        \n",
    "    def InsertAtBinging(self,data):\n",
    "        \n",
    "        if self.head is None:\n",
    "            node = Node(data,self.head)\n",
    "            self.head = node\n",
    "        else:\n",
    "            node = Node(data,self.head)\n",
    "            self.head.previous = node\n",
    "            self.head = node\n",
    "        \n",
    "    def print_list_forward(self):\n",
    "        itr = self.head\n",
    "        output_str=\"\"\n",
    "        while itr:\n",
    "            output_str +=\"<---\"+\"|\"+str(itr.data)+\"|\"+\"--->\"\n",
    "            itr = itr.next\n",
    "        return output_str\n",
    "    \n",
    "    def get_lastNode(self):\n",
    "        itr = self.head\n",
    "        while itr.next:\n",
    "            itr = itr.next\n",
    "        return itr\n",
    "    \n",
    "    def print_list_backward(self):\n",
    "        last_node = self.get_lastNode()\n",
    "        itr = last_node\n",
    "        output_str=\"\"\n",
    "        while itr:\n",
    "            output_str +=\"<---\"+\"|\"+str(itr.data)+\"|\"+\"--->\"\n",
    "            itr = itr.previous\n",
    "        return output_str"
   ]
  },
  {
   "cell_type": "code",
   "execution_count": 74,
   "id": "9b32eea5",
   "metadata": {},
   "outputs": [],
   "source": [
    "dl = DoublyLinkedList()"
   ]
  },
  {
   "cell_type": "code",
   "execution_count": 75,
   "id": "a9a8b79d",
   "metadata": {},
   "outputs": [],
   "source": [
    "dl.InsertAtBinging(12)"
   ]
  },
  {
   "cell_type": "code",
   "execution_count": 76,
   "id": "77750a8e",
   "metadata": {},
   "outputs": [],
   "source": [
    "dl.InsertAtBinging(3)"
   ]
  },
  {
   "cell_type": "code",
   "execution_count": 77,
   "id": "a06e9822",
   "metadata": {},
   "outputs": [
    {
     "data": {
      "text/plain": [
       "'<---|3|---><---|12|--->'"
      ]
     },
     "execution_count": 77,
     "metadata": {},
     "output_type": "execute_result"
    }
   ],
   "source": [
    "dl.print_list_forward()"
   ]
  },
  {
   "cell_type": "code",
   "execution_count": 78,
   "id": "ad0e088c",
   "metadata": {},
   "outputs": [
    {
     "data": {
      "text/plain": [
       "'<---|12|---><---|3|--->'"
      ]
     },
     "execution_count": 78,
     "metadata": {},
     "output_type": "execute_result"
    }
   ],
   "source": [
    "dl.print_list_backward()"
   ]
  },
  {
   "cell_type": "code",
   "execution_count": null,
   "id": "aa653e80",
   "metadata": {},
   "outputs": [],
   "source": []
  },
  {
   "cell_type": "code",
   "execution_count": null,
   "id": "ced96b5b",
   "metadata": {},
   "outputs": [],
   "source": []
  }
 ],
 "metadata": {
  "kernelspec": {
   "display_name": "Python 3 (ipykernel)",
   "language": "python",
   "name": "python3"
  },
  "language_info": {
   "codemirror_mode": {
    "name": "ipython",
    "version": 3
   },
   "file_extension": ".py",
   "mimetype": "text/x-python",
   "name": "python",
   "nbconvert_exporter": "python",
   "pygments_lexer": "ipython3",
   "version": "3.9.7"
  }
 },
 "nbformat": 4,
 "nbformat_minor": 5
}
