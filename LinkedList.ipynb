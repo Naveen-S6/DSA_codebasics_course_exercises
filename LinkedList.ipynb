{
 "cells": [
  {
   "cell_type": "code",
   "execution_count": 1,
   "id": "2534e561",
   "metadata": {},
   "outputs": [],
   "source": [
    "class Node:\n",
    "    def __init__(self, data,Next):\n",
    "        self.data = data\n",
    "        self.next = Next"
   ]
  },
  {
   "cell_type": "code",
   "execution_count": 323,
   "id": "60e7fa5c",
   "metadata": {},
   "outputs": [],
   "source": [
    "class LinkedList:\n",
    "    def __init__(self):\n",
    "        self.head = None\n",
    "        \n",
    "    def InsertAtBigining(self, data):\n",
    "        node = Node(data, self.head)\n",
    "        self.head = node\n",
    "        \n",
    "    def print_list(self):\n",
    "        if self.head is None:\n",
    "            print(\"Linked list is empty!\")\n",
    "            return\n",
    "        \n",
    "        itr = self.head\n",
    "        linked_str =\"\"\n",
    "        while itr:\n",
    "            linked_str += str(itr.data)+ \"---->\"\n",
    "            itr = itr.next\n",
    "        print(linked_str)\n",
    "        \n",
    "    def InsertAtEnd(self,data):\n",
    "        if self.head is None:\n",
    "            self.head = Node(data, None)\n",
    "            return\n",
    "        \n",
    "        itr = self.head\n",
    "        while itr.next:\n",
    "            itr = itr.next  \n",
    "        itr.next = Node(data, None)\n",
    "        \n",
    "    def InsertValues(self, value_list):\n",
    "        self.head = None\n",
    "        for i in value_list:\n",
    "            self.InsertAtEnd(i)\n",
    "            \n",
    "    def CountOfList(self):\n",
    "        itr = self.head \n",
    "        count = 0\n",
    "        while itr:\n",
    "            count +=1\n",
    "            itr = itr.next\n",
    "            \n",
    "        return count\n",
    "    \n",
    "    def DeleterByIndex(self, index):\n",
    "        \n",
    "        if index<0 or index>= self.CountOfList():\n",
    "            raise Exception(\"Index is not valid\")\n",
    "            \n",
    "        if index == 0:\n",
    "            self.head = self.head.next\n",
    "            \n",
    "        count =0 \n",
    "        itr = self.head\n",
    "        while itr:\n",
    "            if count == index - 1:\n",
    "                itr.next = itr.next.next\n",
    "                break\n",
    "            itr = itr.next\n",
    "            count +=1\n",
    "            \n",
    "    def InsertAt(self,index,data):\n",
    "        if index<0 or index> self.CountOfList():\n",
    "            raise Exception(\"Index is not valid\")\n",
    "            \n",
    "        if index == 0:\n",
    "            self.InsertAtBigining(data)\n",
    "\n",
    "        count = 0\n",
    "        itr = self.head\n",
    "        while itr:\n",
    "            if count== index-1:\n",
    "                node = Node(data,itr.next)\n",
    "                itr.next = node\n",
    "                break\n",
    "            itr = itr.next\n",
    "            count +=1\n",
    "            \n",
    "    def InsertAfter(self, data_after,insert_data):\n",
    "        itr = self.head\n",
    "        \n",
    "        while itr:\n",
    "            if itr.data == data_after:\n",
    "                node = Node(insert_data,itr.next)\n",
    "                itr.next = node\n",
    "                break\n",
    "            itr = itr.next\n",
    "            \n",
    "    def RemoveByValue(self,value):\n",
    "        if self.head.data == value:\n",
    "            self.head = self.head.next\n",
    "            return\n",
    "        itr = self.head\n",
    "        count = 0\n",
    "        while itr:\n",
    "            if itr.data == value:\n",
    "                self.DeleterByIndex(count)\n",
    "                break\n",
    "            count +=1\n",
    "            itr = itr.next"
   ]
  },
  {
   "cell_type": "code",
   "execution_count": 324,
   "id": "8e19f36f",
   "metadata": {},
   "outputs": [
    {
     "name": "stdout",
     "output_type": "stream",
     "text": [
      "2---->12---->\n"
     ]
    }
   ],
   "source": [
    "ll = LinkedList()\n",
    "ll.InsertAtBigining(12)\n",
    "ll.InsertAtBigining(2)\n",
    "ll.print_list()"
   ]
  },
  {
   "cell_type": "code",
   "execution_count": 325,
   "id": "f1eab05a",
   "metadata": {},
   "outputs": [
    {
     "name": "stdout",
     "output_type": "stream",
     "text": [
      "32---->2---->12---->\n"
     ]
    }
   ],
   "source": [
    "ll.InsertAtBigining(32)\n",
    "ll.print_list()"
   ]
  },
  {
   "cell_type": "code",
   "execution_count": 326,
   "id": "eeb07abe",
   "metadata": {},
   "outputs": [
    {
     "name": "stdout",
     "output_type": "stream",
     "text": [
      "32---->2---->12---->22---->\n"
     ]
    }
   ],
   "source": [
    "ll.InsertAtEnd(22)\n",
    "ll.print_list()"
   ]
  },
  {
   "cell_type": "code",
   "execution_count": 327,
   "id": "bd105cda",
   "metadata": {},
   "outputs": [
    {
     "data": {
      "text/plain": [
       "4"
      ]
     },
     "execution_count": 327,
     "metadata": {},
     "output_type": "execute_result"
    }
   ],
   "source": [
    "ll.CountOfList()"
   ]
  },
  {
   "cell_type": "code",
   "execution_count": 328,
   "id": "81104a6a",
   "metadata": {},
   "outputs": [],
   "source": [
    "data = ['Naveen', 'Nandhini','Chithra','Srinivasa']"
   ]
  },
  {
   "cell_type": "code",
   "execution_count": 329,
   "id": "baadc821",
   "metadata": {},
   "outputs": [
    {
     "name": "stdout",
     "output_type": "stream",
     "text": [
      "Naveen---->Nandhini---->Chithra---->Srinivasa---->\n"
     ]
    }
   ],
   "source": [
    "ll.InsertValues(data)\n",
    "ll.print_list()"
   ]
  },
  {
   "cell_type": "code",
   "execution_count": 330,
   "id": "f29497ad",
   "metadata": {},
   "outputs": [
    {
     "name": "stdout",
     "output_type": "stream",
     "text": [
      "Nandhini---->Chithra---->Srinivasa---->\n"
     ]
    }
   ],
   "source": [
    "ll.DeleterByIndex(0)\n",
    "ll.print_list()"
   ]
  },
  {
   "cell_type": "code",
   "execution_count": 331,
   "id": "b84cd37a",
   "metadata": {},
   "outputs": [
    {
     "name": "stdout",
     "output_type": "stream",
     "text": [
      "Nandhini---->Chithra---->\n"
     ]
    }
   ],
   "source": [
    "ll.DeleterByIndex(2)\n",
    "ll.print_list()"
   ]
  },
  {
   "cell_type": "code",
   "execution_count": 332,
   "id": "f080c3df",
   "metadata": {},
   "outputs": [
    {
     "name": "stdout",
     "output_type": "stream",
     "text": [
      "Nandhini---->Chithra---->Srinivasa---->\n"
     ]
    }
   ],
   "source": [
    "ll.InsertAt(2,'Srinivasa')\n",
    "ll.print_list()"
   ]
  },
  {
   "cell_type": "code",
   "execution_count": 333,
   "id": "a481e945",
   "metadata": {},
   "outputs": [
    {
     "name": "stdout",
     "output_type": "stream",
     "text": [
      "Nandhini---->Naveen---->Chithra---->Srinivasa---->\n"
     ]
    }
   ],
   "source": [
    "ll.InsertAt(1,\"Naveen\")\n",
    "ll.print_list()"
   ]
  },
  {
   "cell_type": "code",
   "execution_count": 334,
   "id": "4e32899d",
   "metadata": {},
   "outputs": [
    {
     "name": "stdout",
     "output_type": "stream",
     "text": [
      "Nandhini---->Naveen---->Naveen's wife---->Chithra---->Srinivasa---->\n"
     ]
    }
   ],
   "source": [
    "ll.InsertAfter(\"Naveen\",\"Naveen's wife\")\n",
    "ll.print_list()"
   ]
  },
  {
   "cell_type": "code",
   "execution_count": 335,
   "id": "cd45d588",
   "metadata": {},
   "outputs": [
    {
     "name": "stdout",
     "output_type": "stream",
     "text": [
      "Nandhini---->Naveen---->Chithra---->Srinivasa---->\n"
     ]
    }
   ],
   "source": [
    "ll.RemoveByValue(\"Naveen's wife\")\n",
    "ll.print_list()"
   ]
  },
  {
   "cell_type": "code",
   "execution_count": null,
   "id": "1ddd17ec",
   "metadata": {},
   "outputs": [],
   "source": []
  }
 ],
 "metadata": {
  "kernelspec": {
   "display_name": "Python 3 (ipykernel)",
   "language": "python",
   "name": "python3"
  },
  "language_info": {
   "codemirror_mode": {
    "name": "ipython",
    "version": 3
   },
   "file_extension": ".py",
   "mimetype": "text/x-python",
   "name": "python",
   "nbconvert_exporter": "python",
   "pygments_lexer": "ipython3",
   "version": "3.9.7"
  }
 },
 "nbformat": 4,
 "nbformat_minor": 5
}
