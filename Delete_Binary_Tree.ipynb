{
 "cells": [
  {
   "cell_type": "code",
   "execution_count": 233,
   "id": "6aaef58a",
   "metadata": {},
   "outputs": [],
   "source": [
    "class BinaryTreeNode:\n",
    "    def __init__(self,data):\n",
    "        self.data = data\n",
    "        self.left = None\n",
    "        self.right = None\n",
    "        \n",
    "    def add_child(self,data):\n",
    "        # returning if the value already exists\n",
    "        if self.data == data:\n",
    "            return\n",
    "        \n",
    "        #adding value to left if lower than node data\n",
    "        if data< self.data:\n",
    "            if self.left:\n",
    "                self.left.add_child(data)\n",
    "            else:\n",
    "                self.left = BinaryTreeNode(data)\n",
    "        else:  \n",
    "            #adding value to right if higher than node data\n",
    "            if self.right:\n",
    "                self.right.add_child(data)\n",
    "            else:\n",
    "                self.right = BinaryTreeNode(data)\n",
    "            \n",
    "    def Inorder_traversal(self):\n",
    "        elements = []\n",
    "        \n",
    "        if self.left:\n",
    "            elements += self.left.Inorder_traversal()\n",
    "        \n",
    "        elements.append(self.data)\n",
    "        \n",
    "        if self.right:\n",
    "            elements += self.right.Inorder_traversal()\n",
    "            \n",
    "        return elements\n",
    "        \n",
    "    def search(self,val):\n",
    "        if self.data == val:\n",
    "            return True\n",
    "        \n",
    "        if val< self.data:\n",
    "            #It may be in left subtree\n",
    "            if self.left:\n",
    "                return self.left.search(val)\n",
    "            else:\n",
    "                return False\n",
    "            \n",
    "        else:\n",
    "            #It may be in right subtree\n",
    "            if self.right:\n",
    "                return self.right.search(val)\n",
    "            else:\n",
    "                return False\n",
    "            \n",
    "    def find_min(self):\n",
    "        if self.left is None:\n",
    "            return self.data\n",
    "\n",
    "        return self.left.find_min()\n",
    "    \n",
    "    def find_max(self):\n",
    "        if self.right:\n",
    "            return self.right.find_max()\n",
    "        else:\n",
    "            return self.data\n",
    "        \n",
    "    def calculate_sum(self):\n",
    "        total = 0\n",
    "        \n",
    "        if self.left:\n",
    "            total += self.left.calculate_sum()\n",
    "        \n",
    "        total += self.data\n",
    "        \n",
    "        if self.right:\n",
    "            total += self.right.calculate_sum()\n",
    "\n",
    "        return total\n",
    "        \n",
    "    def postorder_traversal(self):\n",
    "        elements = []\n",
    "        \n",
    "        if self.left:\n",
    "            elements += self.left.postorder_traversal()\n",
    "        if self.right:\n",
    "            elements += self.right.postorder_traversal()\n",
    "            \n",
    "        elements.append(self.data)\n",
    "        \n",
    "        return elements\n",
    "    \n",
    "    def preorder_traversal(self):\n",
    "        \n",
    "        elements = []\n",
    "        elements.append(self.data)\n",
    "        \n",
    "        if self.left:\n",
    "            elements += self.left.preorder_traversal()\n",
    "            \n",
    "        if self.right:\n",
    "            elements += self.right.preorder_traversal()\n",
    "            \n",
    "        return elements\n",
    "    \n",
    "    def delete_node(self,val):\n",
    "        if val<self.data:\n",
    "            if self.left:\n",
    "                self.left = self.left.delete_node(val)\n",
    "        elif val>self.data:\n",
    "            if self.right:\n",
    "                self.right = self.right.delete_node(val)\n",
    "            \n",
    "        else: \n",
    "            if self.left is None and self.right is None:\n",
    "                return None\n",
    "            elif self.left is None:\n",
    "                return self.right\n",
    "            elif self.right is None:\n",
    "                return self.left\n",
    "            \n",
    "            #min_val = self.right.find_min()\n",
    "            #self.data = min_val\n",
    "            #self.right = self.right.delete_node(min_val)\n",
    "            \n",
    "            max_val = self.left.find_max()\n",
    "            self.data = max_val\n",
    "            self.left = self.left.delete_node(max_val)\n",
    "            \n",
    "        return self"
   ]
  },
  {
   "cell_type": "code",
   "execution_count": 234,
   "id": "3f1c0497",
   "metadata": {},
   "outputs": [],
   "source": [
    "def build_tree(ele):\n",
    "    root = BinaryTreeNode(ele[0])\n",
    "    for i in range(1,len(ele)):\n",
    "        root.add_child(ele[i])\n",
    "        \n",
    "    return root"
   ]
  },
  {
   "cell_type": "code",
   "execution_count": 235,
   "id": "944553c4",
   "metadata": {},
   "outputs": [
    {
     "data": {
      "text/plain": [
       "126"
      ]
     },
     "execution_count": 235,
     "metadata": {},
     "output_type": "execute_result"
    }
   ],
   "source": [
    "numbers = [17,4,1,20,9,23,18,34]\n",
    "sum(numbers)"
   ]
  },
  {
   "cell_type": "code",
   "execution_count": 236,
   "id": "4bb9cea5",
   "metadata": {},
   "outputs": [],
   "source": [
    "root = build_tree(numbers)"
   ]
  },
  {
   "cell_type": "code",
   "execution_count": 237,
   "id": "1be5b7fa",
   "metadata": {},
   "outputs": [
    {
     "name": "stdout",
     "output_type": "stream",
     "text": [
      "<__main__.BinaryTreeNode object at 0x0000022D0FE21610>\n"
     ]
    }
   ],
   "source": [
    "print(root)"
   ]
  },
  {
   "cell_type": "code",
   "execution_count": 238,
   "id": "85cc5b20",
   "metadata": {},
   "outputs": [
    {
     "data": {
      "text/plain": [
       "[1, 4, 9, 17, 18, 20, 23, 34]"
      ]
     },
     "execution_count": 238,
     "metadata": {},
     "output_type": "execute_result"
    }
   ],
   "source": [
    "root.Inorder_traversal()"
   ]
  },
  {
   "cell_type": "code",
   "execution_count": 239,
   "id": "62722923",
   "metadata": {},
   "outputs": [
    {
     "name": "stdout",
     "output_type": "stream",
     "text": [
      "False\n"
     ]
    }
   ],
   "source": [
    "print(root.search(223))"
   ]
  },
  {
   "cell_type": "code",
   "execution_count": 240,
   "id": "adbe3a17",
   "metadata": {},
   "outputs": [
    {
     "data": {
      "text/plain": [
       "1"
      ]
     },
     "execution_count": 240,
     "metadata": {},
     "output_type": "execute_result"
    }
   ],
   "source": [
    "root.find_min()"
   ]
  },
  {
   "cell_type": "code",
   "execution_count": 241,
   "id": "c711b502",
   "metadata": {},
   "outputs": [
    {
     "data": {
      "text/plain": [
       "34"
      ]
     },
     "execution_count": 241,
     "metadata": {},
     "output_type": "execute_result"
    }
   ],
   "source": [
    "root.find_max()"
   ]
  },
  {
   "cell_type": "code",
   "execution_count": 242,
   "id": "91f24502",
   "metadata": {},
   "outputs": [
    {
     "data": {
      "text/plain": [
       "126"
      ]
     },
     "execution_count": 242,
     "metadata": {},
     "output_type": "execute_result"
    }
   ],
   "source": [
    "root.calculate_sum()"
   ]
  },
  {
   "cell_type": "code",
   "execution_count": 243,
   "id": "68ee8ebe",
   "metadata": {},
   "outputs": [
    {
     "data": {
      "text/plain": [
       "[1, 9, 4, 18, 34, 23, 20, 17]"
      ]
     },
     "execution_count": 243,
     "metadata": {},
     "output_type": "execute_result"
    }
   ],
   "source": [
    "root.postorder_traversal()"
   ]
  },
  {
   "cell_type": "code",
   "execution_count": 230,
   "id": "0f8d7946",
   "metadata": {},
   "outputs": [
    {
     "data": {
      "text/plain": [
       "[17, 4, 1, 9, 20, 18, 23, 34]"
      ]
     },
     "execution_count": 230,
     "metadata": {},
     "output_type": "execute_result"
    }
   ],
   "source": [
    "root.preorder_traversal()"
   ]
  },
  {
   "cell_type": "code",
   "execution_count": 244,
   "id": "f48e0021",
   "metadata": {},
   "outputs": [
    {
     "data": {
      "text/plain": [
       "<__main__.BinaryTreeNode at 0x22d0fe21610>"
      ]
     },
     "execution_count": 244,
     "metadata": {},
     "output_type": "execute_result"
    }
   ],
   "source": [
    "root.delete_node(17)"
   ]
  },
  {
   "cell_type": "code",
   "execution_count": 245,
   "id": "eef5f792",
   "metadata": {},
   "outputs": [
    {
     "data": {
      "text/plain": [
       "[9, 4, 1, 20, 18, 23, 34]"
      ]
     },
     "execution_count": 245,
     "metadata": {},
     "output_type": "execute_result"
    }
   ],
   "source": [
    "root.preorder_traversal()"
   ]
  },
  {
   "cell_type": "code",
   "execution_count": null,
   "id": "9cf9e676",
   "metadata": {},
   "outputs": [],
   "source": []
  },
  {
   "cell_type": "code",
   "execution_count": null,
   "id": "d09501a4",
   "metadata": {},
   "outputs": [],
   "source": []
  }
 ],
 "metadata": {
  "kernelspec": {
   "display_name": "Python 3 (ipykernel)",
   "language": "python",
   "name": "python3"
  },
  "language_info": {
   "codemirror_mode": {
    "name": "ipython",
    "version": 3
   },
   "file_extension": ".py",
   "mimetype": "text/x-python",
   "name": "python",
   "nbconvert_exporter": "python",
   "pygments_lexer": "ipython3",
   "version": "3.9.7"
  }
 },
 "nbformat": 4,
 "nbformat_minor": 5
}
